{
 "cells": [
  {
   "cell_type": "markdown",
   "source": [
    "# 텍스트 분석\n",
    "- NLP: 기계가 인간의 언어를 이해하고 해석하는 데에 중점\n",
    "    - 기계 번역\n",
    "    - 질의응답 시스템\n",
    "- 텍스트 분석 (Text Mining): 비정형 텍스트에서 의미 있는 정보를 추출하는 것에 중점\n",
    "    - 머신러닝, 언어 이해, 통계 등 활용 모델 수립\n",
    "    - 정보 추출 BI 나 예측 분석 작업 수행\n",
    "    - 주요 기술 영역\n",
    "        - 텍스트 분류 (Text Classification): (지도) 문서 카테고리 분류, 스팸 메일 검출 등\n",
    "        - 감성 분석 (Sentiment Analysis): (지도/비지도) 감정/판단/믿음/의견/기분 등 주관적 요소 분석, 소셜 미디어 감정 분석, 영화나 제품에 대한 리뷰, 여론조사 의견 분석\n",
    "        - 텍스트 요약 (Summarization): 중요한 주제나 중심 사상 추출\n",
    "        - 텍스트 군집화(Clustering) 및 유사도 측정: 비슷한 유형의 문서에 대한 군집화 수행\n",
    "\n",
    "## 텍스트 분석 이해\n",
    "\n",
    "피처 벡터화(Feature Vectorization), 피처 추출(Feature Extraction) : 텍스트를 word (의 일부분) 기반의 다수 피처 추출하여 단어 빈도수 등 부여하여 단어의 조합인 벡터값으로 표현\n",
    "\n",
    "BOW, Word2Vec 이용\n",
    "\n",
    "### 분석 수행 프로세스\n",
    "\n",
    "텍스트 사전 준비작업 (텍스트 전처리): 클렌징, 대소문자 변경, 특수문자 삭제, 토큰화 작업, 의미없는 단어 제거 작업, 어근 추출(Stemming / Lemmatization) 등 수행\n",
    "\n",
    "피처 벡터화/추출: 가공된 텍스트에서 피처 추출 및 벡터 값 할당 (BOW (Count or TF-IDF 기반), Word2Vec)\n",
    "\n",
    "ML 모델 수립 및 학습/예측/평가\n",
    "\n",
    "### NLP, 텍스트 분석 패키지\n",
    "\n",
    "NLTK: 대표적인 NLP 패키지, 수행 속도가 비교적 느림\n",
    "\n",
    "Gensim: 토픽 모델링 분야에서 사용, Word2Vec 구현\n",
    "\n",
    "SpaCy: 뛰어난 수행 성능\n",
    "\n",
    "ScikitLearn은 NLP를 위한 라이브러리를 가지고 있지는 않지만, 가공, 피처 처리를 위한 기능 제공\n",
    "\n",
    "앞서 언급한 세 모델과 함께 사용"
   ],
   "metadata": {
    "collapsed": false
   }
  },
  {
   "cell_type": "code",
   "execution_count": null,
   "outputs": [],
   "source": [],
   "metadata": {
    "collapsed": false
   }
  }
 ],
 "metadata": {
  "kernelspec": {
   "display_name": "Python 3",
   "language": "python",
   "name": "python3"
  },
  "language_info": {
   "codemirror_mode": {
    "name": "ipython",
    "version": 2
   },
   "file_extension": ".py",
   "mimetype": "text/x-python",
   "name": "python",
   "nbconvert_exporter": "python",
   "pygments_lexer": "ipython2",
   "version": "2.7.6"
  }
 },
 "nbformat": 4,
 "nbformat_minor": 0
}
