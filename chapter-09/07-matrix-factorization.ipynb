{
 "cells": [
  {
   "cell_type": "code",
   "execution_count": 4,
   "metadata": {
    "collapsed": true
   },
   "outputs": [],
   "source": [
    "import numpy as np\n",
    "from sklearn.metrics import mean_squared_error\n",
    "\n",
    "def get_rmse(R, P, Q, non_zeros):\n",
    "    error = 0\n",
    "    full_pred_matrix = np.dot(P, Q.T)\n",
    "\n",
    "    x_non_zero_ind = [non_zero[0] for non_zero in non_zeros]\n",
    "    y_non_zero_ind = [non_zero[1] for non_zero in non_zeros]\n",
    "    R_non_zeros = R[x_non_zero_ind, y_non_zero_ind]\n",
    "\n",
    "    full_pred_matrix_non_zeros = full_pred_matrix[x_non_zero_ind, y_non_zero_ind]\n",
    "\n",
    "    mse = mean_squared_error(R_non_zeros, full_pred_matrix_non_zeros)\n",
    "    rmse = np.sqrt(mse)\n",
    "\n",
    "    return rmse"
   ]
  },
  {
   "cell_type": "code",
   "execution_count": 5,
   "outputs": [],
   "source": [
    "def matrix_factorization(R, K, steps=200, learning_rate=0.01, r_lambda = 0.01):\n",
    "    num_users, num_items = R.shape\n",
    "    np.random.seed(1)\n",
    "    P = np.random.normal(scale=1./K, size=(num_users, K))\n",
    "    Q = np.random.normal(scale=1./K, size=(num_items, K))\n",
    "\n",
    "    non_zeros = [ (i, j, R[i,j]) for i in range(num_users) for j in range(num_items) if R[i,j] > 0 ]\n",
    "\n",
    "    for step in range(steps):\n",
    "        for i, j, r in non_zeros:\n",
    "            eij = r - np.dot(P[i, :], Q[j, :].T)\n",
    "            P[i, :] = P[i, :] + learning_rate*(eij * Q[j, :] - r_lambda*P[i, :])\n",
    "            Q[j, :] = Q[j, :] + learning_rate*(eij * P[i, :] - r_lambda*Q[j, :])\n",
    "\n",
    "        rmse = get_rmse(R, P, Q, non_zeros)\n",
    "        if (step % 10) == 0 :\n",
    "            print(\"# iteration step:\", step,\"rmse:\", rmse)\n",
    "\n",
    "    return P, Q"
   ],
   "metadata": {
    "collapsed": false
   }
  },
  {
   "cell_type": "code",
   "execution_count": 6,
   "outputs": [],
   "source": [
    "import pandas as pd\n",
    "import numpy as np\n",
    "\n",
    "movies = pd.read_csv('../ml-latest-small/movies.csv')\n",
    "ratings = pd.read_csv('../ml-latest-small/ratings.csv')\n",
    "ratings = ratings[['userId', 'movieId', 'rating']]\n",
    "ratings_matrix = ratings.pivot_table('rating', index='userId', columns='movieId')\n",
    "\n",
    "rating_movies = pd.merge(ratings, movies, on='movieId')\n",
    "\n",
    "ratings_matrix = rating_movies.pivot_table('rating', index='userId', columns='title')"
   ],
   "metadata": {
    "collapsed": false
   }
  },
  {
   "cell_type": "code",
   "execution_count": 7,
   "outputs": [
    {
     "name": "stdout",
     "output_type": "stream",
     "text": [
      "# iteration step: 0 rmse: 2.9023619751336867\n",
      "# iteration step: 10 rmse: 0.7335768591017927\n",
      "# iteration step: 20 rmse: 0.5115539026853442\n",
      "# iteration step: 30 rmse: 0.37261628282537446\n",
      "# iteration step: 40 rmse: 0.29608182991810134\n",
      "# iteration step: 50 rmse: 0.2520353192341642\n",
      "# iteration step: 60 rmse: 0.2248750327526985\n",
      "# iteration step: 70 rmse: 0.20685455302331537\n",
      "# iteration step: 80 rmse: 0.19413418783028683\n",
      "# iteration step: 90 rmse: 0.184700820027204\n",
      "# iteration step: 100 rmse: 0.17742927527209104\n",
      "# iteration step: 110 rmse: 0.1716522696470749\n",
      "# iteration step: 120 rmse: 0.1669518194687172\n",
      "# iteration step: 130 rmse: 0.1630529219199754\n",
      "# iteration step: 140 rmse: 0.1597669192967964\n",
      "# iteration step: 150 rmse: 0.15695986999457318\n",
      "# iteration step: 160 rmse: 0.15453398186715428\n",
      "# iteration step: 170 rmse: 0.1524161855107764\n",
      "# iteration step: 180 rmse: 0.15055080739628304\n",
      "# iteration step: 190 rmse: 0.14889470913232092\n"
     ]
    }
   ],
   "source": [
    "# matrix factorization\n",
    "P, Q = matrix_factorization(ratings_matrix.values, K=50, steps=200, learning_rate=0.01,\n",
    "                            r_lambda=0.01)\n",
    "prd_matrix = np.dot(P, Q.T)"
   ],
   "metadata": {
    "collapsed": false
   }
  },
  {
   "cell_type": "code",
   "execution_count": 8,
   "outputs": [
    {
     "data": {
      "text/plain": "title   '71 (2014)  'Hellboy': The Seeds of Creation (2004)  \\\nuserId                                                        \n1         3.055084                                 4.092018   \n2         3.170119                                 3.657992   \n3         2.307073                                 1.658853   \n4         2.628629                                 3.035550   \n5         2.116148                                 3.084761   \n\ntitle   'Round Midnight (1986)  'Salem's Lot (2004)  \\\nuserId                                                \n1                     3.564130             4.502167   \n2                     3.308707             4.166521   \n3                     1.443538             2.208859   \n4                     2.575746             3.706912   \n5                     2.747679             3.783490   \n\ntitle   'Til There Was You (1997)  'Tis the Season for Love (2015)  \\\nuserId                                                               \n1                        3.981215                         1.271694   \n2                        4.311890                         1.275469   \n3                        2.229486                         0.780760   \n4                        3.430636                         0.706441   \n5                        3.946990                         0.883259   \n\ntitle   'burbs, The (1989)  'night Mother (1986)  (500) Days of Summer (2009)  \\\nuserId                                                                          \n1                 3.603274              2.333266                     5.091749   \n2                 4.237972              1.900366                     3.392859   \n3                 1.997043              0.924908                     2.970700   \n4                 3.330280              1.978826                     4.560368   \n5                 1.958953              1.757317                     2.054312   \n\ntitle   *batteries not included (1987)  ...  Zulu (2013)  [REC] (2007)  \\\nuserId                                  ...                              \n1                             3.972454  ...     1.402608      4.208382   \n2                             3.647421  ...     0.973811      3.528264   \n3                             2.551446  ...     0.520354      1.709494   \n4                             2.775710  ...     1.046116      2.912178   \n5                             2.775258  ...     0.956159      3.893975   \n\ntitle   [REC]² (2009)  [REC]³ 3 Génesis (2012)  \\\nuserId                                           \n1            3.705957                 2.720514   \n2            3.361532                 2.672535   \n3            2.281596                 1.782833   \n4            2.479592                 2.231915   \n5            2.717024                 2.002443   \n\ntitle   anohana: The Flower We Saw That Day - The Movie (2013)  \\\nuserId                                                           \n1                                                2.787331        \n2                                                2.404456        \n3                                                1.635173        \n4                                                1.888629        \n5                                                2.053337        \n\ntitle   eXistenZ (1999)  xXx (2002)  xXx: State of the Union (2005)  \\\nuserId                                                                \n1              3.475076    3.253458                        2.161087   \n2              4.232789    2.911602                        1.634576   \n3              1.323276    2.887580                        1.042618   \n4              2.211364    0.645603                        1.585734   \n5              3.983639    2.099626                        1.423718   \n\ntitle   ¡Three Amigos! (1986)  À nous la liberté (Freedom for Us) (1931)  \nuserId                                                                    \n1                    4.010495                                   0.859474  \n2                    4.135735                                   0.725684  \n3                    2.293890                                   0.396941  \n4                    3.542892                                   0.591540  \n5                    2.490428                                   0.531403  \n\n[5 rows x 9719 columns]",
      "text/html": "<div>\n<style scoped>\n    .dataframe tbody tr th:only-of-type {\n        vertical-align: middle;\n    }\n\n    .dataframe tbody tr th {\n        vertical-align: top;\n    }\n\n    .dataframe thead th {\n        text-align: right;\n    }\n</style>\n<table border=\"1\" class=\"dataframe\">\n  <thead>\n    <tr style=\"text-align: right;\">\n      <th>title</th>\n      <th>'71 (2014)</th>\n      <th>'Hellboy': The Seeds of Creation (2004)</th>\n      <th>'Round Midnight (1986)</th>\n      <th>'Salem's Lot (2004)</th>\n      <th>'Til There Was You (1997)</th>\n      <th>'Tis the Season for Love (2015)</th>\n      <th>'burbs, The (1989)</th>\n      <th>'night Mother (1986)</th>\n      <th>(500) Days of Summer (2009)</th>\n      <th>*batteries not included (1987)</th>\n      <th>...</th>\n      <th>Zulu (2013)</th>\n      <th>[REC] (2007)</th>\n      <th>[REC]² (2009)</th>\n      <th>[REC]³ 3 Génesis (2012)</th>\n      <th>anohana: The Flower We Saw That Day - The Movie (2013)</th>\n      <th>eXistenZ (1999)</th>\n      <th>xXx (2002)</th>\n      <th>xXx: State of the Union (2005)</th>\n      <th>¡Three Amigos! (1986)</th>\n      <th>À nous la liberté (Freedom for Us) (1931)</th>\n    </tr>\n    <tr>\n      <th>userId</th>\n      <th></th>\n      <th></th>\n      <th></th>\n      <th></th>\n      <th></th>\n      <th></th>\n      <th></th>\n      <th></th>\n      <th></th>\n      <th></th>\n      <th></th>\n      <th></th>\n      <th></th>\n      <th></th>\n      <th></th>\n      <th></th>\n      <th></th>\n      <th></th>\n      <th></th>\n      <th></th>\n      <th></th>\n    </tr>\n  </thead>\n  <tbody>\n    <tr>\n      <th>1</th>\n      <td>3.055084</td>\n      <td>4.092018</td>\n      <td>3.564130</td>\n      <td>4.502167</td>\n      <td>3.981215</td>\n      <td>1.271694</td>\n      <td>3.603274</td>\n      <td>2.333266</td>\n      <td>5.091749</td>\n      <td>3.972454</td>\n      <td>...</td>\n      <td>1.402608</td>\n      <td>4.208382</td>\n      <td>3.705957</td>\n      <td>2.720514</td>\n      <td>2.787331</td>\n      <td>3.475076</td>\n      <td>3.253458</td>\n      <td>2.161087</td>\n      <td>4.010495</td>\n      <td>0.859474</td>\n    </tr>\n    <tr>\n      <th>2</th>\n      <td>3.170119</td>\n      <td>3.657992</td>\n      <td>3.308707</td>\n      <td>4.166521</td>\n      <td>4.311890</td>\n      <td>1.275469</td>\n      <td>4.237972</td>\n      <td>1.900366</td>\n      <td>3.392859</td>\n      <td>3.647421</td>\n      <td>...</td>\n      <td>0.973811</td>\n      <td>3.528264</td>\n      <td>3.361532</td>\n      <td>2.672535</td>\n      <td>2.404456</td>\n      <td>4.232789</td>\n      <td>2.911602</td>\n      <td>1.634576</td>\n      <td>4.135735</td>\n      <td>0.725684</td>\n    </tr>\n    <tr>\n      <th>3</th>\n      <td>2.307073</td>\n      <td>1.658853</td>\n      <td>1.443538</td>\n      <td>2.208859</td>\n      <td>2.229486</td>\n      <td>0.780760</td>\n      <td>1.997043</td>\n      <td>0.924908</td>\n      <td>2.970700</td>\n      <td>2.551446</td>\n      <td>...</td>\n      <td>0.520354</td>\n      <td>1.709494</td>\n      <td>2.281596</td>\n      <td>1.782833</td>\n      <td>1.635173</td>\n      <td>1.323276</td>\n      <td>2.887580</td>\n      <td>1.042618</td>\n      <td>2.293890</td>\n      <td>0.396941</td>\n    </tr>\n    <tr>\n      <th>4</th>\n      <td>2.628629</td>\n      <td>3.035550</td>\n      <td>2.575746</td>\n      <td>3.706912</td>\n      <td>3.430636</td>\n      <td>0.706441</td>\n      <td>3.330280</td>\n      <td>1.978826</td>\n      <td>4.560368</td>\n      <td>2.775710</td>\n      <td>...</td>\n      <td>1.046116</td>\n      <td>2.912178</td>\n      <td>2.479592</td>\n      <td>2.231915</td>\n      <td>1.888629</td>\n      <td>2.211364</td>\n      <td>0.645603</td>\n      <td>1.585734</td>\n      <td>3.542892</td>\n      <td>0.591540</td>\n    </tr>\n    <tr>\n      <th>5</th>\n      <td>2.116148</td>\n      <td>3.084761</td>\n      <td>2.747679</td>\n      <td>3.783490</td>\n      <td>3.946990</td>\n      <td>0.883259</td>\n      <td>1.958953</td>\n      <td>1.757317</td>\n      <td>2.054312</td>\n      <td>2.775258</td>\n      <td>...</td>\n      <td>0.956159</td>\n      <td>3.893975</td>\n      <td>2.717024</td>\n      <td>2.002443</td>\n      <td>2.053337</td>\n      <td>3.983639</td>\n      <td>2.099626</td>\n      <td>1.423718</td>\n      <td>2.490428</td>\n      <td>0.531403</td>\n    </tr>\n  </tbody>\n</table>\n<p>5 rows × 9719 columns</p>\n</div>"
     },
     "execution_count": 8,
     "metadata": {},
     "output_type": "execute_result"
    }
   ],
   "source": [
    "ratings_prd_matrix = pd.DataFrame(data=prd_matrix, index=ratings_matrix.index,\n",
    "                                  columns=ratings_matrix.columns)\n",
    "ratings_prd_matrix.head()"
   ],
   "metadata": {
    "collapsed": false
   }
  },
  {
   "cell_type": "code",
   "execution_count": 9,
   "outputs": [],
   "source": [
    "def get_unseen_movies(ratings_matrix, userId):\n",
    "    user_rating = ratings_matrix.loc[userId,:]\n",
    "    already_seen = user_rating[ user_rating > 0].index.tolist()\n",
    "    movies_list = ratings_matrix.columns.tolist()\n",
    "    unseen_list = [ movie for movie in movies_list if movie not in already_seen]\n",
    "    return unseen_list"
   ],
   "metadata": {
    "collapsed": false
   }
  },
  {
   "cell_type": "code",
   "execution_count": 10,
   "outputs": [
    {
     "data": {
      "text/plain": "                                                    prd_score\ntitle                                                        \nRear Window (1954)                                   5.704612\nSouth Park: Bigger, Longer and Uncut (1999)          5.451100\nRounders (1998)                                      5.298393\nBlade Runner (1982)                                  5.244951\nRoger & Me (1989)                                    5.191962\nGattaca (1997)                                       5.183179\nBen-Hur (1959)                                       5.130463\nRosencrantz and Guildenstern Are Dead (1990)         5.087375\nBig Lebowski, The (1998)                             5.038690\nStar Wars: Episode V - The Empire Strikes Back ...   4.989601",
      "text/html": "<div>\n<style scoped>\n    .dataframe tbody tr th:only-of-type {\n        vertical-align: middle;\n    }\n\n    .dataframe tbody tr th {\n        vertical-align: top;\n    }\n\n    .dataframe thead th {\n        text-align: right;\n    }\n</style>\n<table border=\"1\" class=\"dataframe\">\n  <thead>\n    <tr style=\"text-align: right;\">\n      <th></th>\n      <th>prd_score</th>\n    </tr>\n    <tr>\n      <th>title</th>\n      <th></th>\n    </tr>\n  </thead>\n  <tbody>\n    <tr>\n      <th>Rear Window (1954)</th>\n      <td>5.704612</td>\n    </tr>\n    <tr>\n      <th>South Park: Bigger, Longer and Uncut (1999)</th>\n      <td>5.451100</td>\n    </tr>\n    <tr>\n      <th>Rounders (1998)</th>\n      <td>5.298393</td>\n    </tr>\n    <tr>\n      <th>Blade Runner (1982)</th>\n      <td>5.244951</td>\n    </tr>\n    <tr>\n      <th>Roger &amp; Me (1989)</th>\n      <td>5.191962</td>\n    </tr>\n    <tr>\n      <th>Gattaca (1997)</th>\n      <td>5.183179</td>\n    </tr>\n    <tr>\n      <th>Ben-Hur (1959)</th>\n      <td>5.130463</td>\n    </tr>\n    <tr>\n      <th>Rosencrantz and Guildenstern Are Dead (1990)</th>\n      <td>5.087375</td>\n    </tr>\n    <tr>\n      <th>Big Lebowski, The (1998)</th>\n      <td>5.038690</td>\n    </tr>\n    <tr>\n      <th>Star Wars: Episode V - The Empire Strikes Back (1980)</th>\n      <td>4.989601</td>\n    </tr>\n  </tbody>\n</table>\n</div>"
     },
     "execution_count": 10,
     "metadata": {},
     "output_type": "execute_result"
    }
   ],
   "source": [
    "def recomm_movie_by_userid(pred_df, userId, unseen_list, top_n=10):\n",
    "    recomm_movies = pred_df.loc[userId, unseen_list].sort_values(ascending=False)[:top_n]\n",
    "    return recomm_movies\n",
    "\n",
    "unseen_list = get_unseen_movies(ratings_matrix, 9)\n",
    "recomm_movies = recomm_movie_by_userid(ratings_prd_matrix, 9, unseen_list, top_n=10)\n",
    "recomm_movies = pd.DataFrame(data=recomm_movies.values,index=recomm_movies.index,\n",
    "                             columns=['prd_score'])\n",
    "\n",
    "recomm_movies"
   ],
   "metadata": {
    "collapsed": false
   }
  },
  {
   "cell_type": "code",
   "execution_count": 12,
   "outputs": [
    {
     "data": {
      "text/plain": "                                                    prd_score\ntitle                                                        \nRear Window (1954)                                   5.704612\nSouth Park: Bigger, Longer and Uncut (1999)          5.451100\nRounders (1998)                                      5.298393\nBlade Runner (1982)                                  5.244951\nRoger & Me (1989)                                    5.191962\nGattaca (1997)                                       5.183179\nBen-Hur (1959)                                       5.130463\nRosencrantz and Guildenstern Are Dead (1990)         5.087375\nBig Lebowski, The (1998)                             5.038690\nStar Wars: Episode V - The Empire Strikes Back ...   4.989601",
      "text/html": "<div>\n<style scoped>\n    .dataframe tbody tr th:only-of-type {\n        vertical-align: middle;\n    }\n\n    .dataframe tbody tr th {\n        vertical-align: top;\n    }\n\n    .dataframe thead th {\n        text-align: right;\n    }\n</style>\n<table border=\"1\" class=\"dataframe\">\n  <thead>\n    <tr style=\"text-align: right;\">\n      <th></th>\n      <th>prd_score</th>\n    </tr>\n    <tr>\n      <th>title</th>\n      <th></th>\n    </tr>\n  </thead>\n  <tbody>\n    <tr>\n      <th>Rear Window (1954)</th>\n      <td>5.704612</td>\n    </tr>\n    <tr>\n      <th>South Park: Bigger, Longer and Uncut (1999)</th>\n      <td>5.451100</td>\n    </tr>\n    <tr>\n      <th>Rounders (1998)</th>\n      <td>5.298393</td>\n    </tr>\n    <tr>\n      <th>Blade Runner (1982)</th>\n      <td>5.244951</td>\n    </tr>\n    <tr>\n      <th>Roger &amp; Me (1989)</th>\n      <td>5.191962</td>\n    </tr>\n    <tr>\n      <th>Gattaca (1997)</th>\n      <td>5.183179</td>\n    </tr>\n    <tr>\n      <th>Ben-Hur (1959)</th>\n      <td>5.130463</td>\n    </tr>\n    <tr>\n      <th>Rosencrantz and Guildenstern Are Dead (1990)</th>\n      <td>5.087375</td>\n    </tr>\n    <tr>\n      <th>Big Lebowski, The (1998)</th>\n      <td>5.038690</td>\n    </tr>\n    <tr>\n      <th>Star Wars: Episode V - The Empire Strikes Back (1980)</th>\n      <td>4.989601</td>\n    </tr>\n  </tbody>\n</table>\n</div>"
     },
     "execution_count": 12,
     "metadata": {},
     "output_type": "execute_result"
    }
   ],
   "source": [
    "unseen_list = get_unseen_movies(ratings_matrix, 9)\n",
    "recomm_movies = recomm_movie_by_userid(ratings_prd_matrix, 9, unseen_list, top_n=10)\n",
    "\n",
    "recomm_movies = pd.DataFrame(data=recomm_movies.values, index=recomm_movies.index,\n",
    "                             columns=[\"prd_score\"])\n",
    "recomm_movies"
   ],
   "metadata": {
    "collapsed": false
   }
  },
  {
   "cell_type": "code",
   "execution_count": null,
   "outputs": [],
   "source": [],
   "metadata": {
    "collapsed": false
   }
  }
 ],
 "metadata": {
  "kernelspec": {
   "display_name": "Python 3",
   "language": "python",
   "name": "python3"
  },
  "language_info": {
   "codemirror_mode": {
    "name": "ipython",
    "version": 2
   },
   "file_extension": ".py",
   "mimetype": "text/x-python",
   "name": "python",
   "nbconvert_exporter": "python",
   "pygments_lexer": "ipython2",
   "version": "2.7.6"
  }
 },
 "nbformat": 4,
 "nbformat_minor": 0
}
