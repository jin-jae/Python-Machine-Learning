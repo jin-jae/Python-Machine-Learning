{
 "cells": [
  {
   "cell_type": "markdown",
   "source": [
    "# Regression\n",
    "## 회귀: 데이터 값이 평균과 같은 일정한 값으로 회귀하려는 경향을 이용한 통계학 기법\n",
    " -> 여러 개의 독립변수와 한 개의 종속변수 간의 상관관계를 모델링하는 기법\n",
    "\n",
    "Y = W * X1 에서\n",
    "Y : 종속변수\n",
    "X1 : 독립변수\n",
    "W : 회귀 계수\n",
    "\n",
    "회귀 예측은 적절한 회귀 계수를 찾아내는 것이 핵심\n",
    "분류와의 차이 - 분류는 예측값이 이산값, 회귀는 연속형 숫자 값\n",
    "\n",
    "## 선형 회귀 모델\n",
    "- 일반 선형 모델: 회귀 계수를 예측값과 실제 값이 차이를 줄이는 방식으로 최적화, 규제 없음\n",
    "- 릿지: 선형 회귀에 L2 규제 (큰 회귀값의 예측 영향도 감소)를 추가한 회귀 모델\n",
    "- 라쏘: 선형 회귀에 L1 규제 (예측 영향력이 작은 회귀 계수 0)를 추가한 회귀 모델\n",
    "- 엘라스틱넷: L1, L2 규제 결합\n",
    "- 로지스틱 회귀: 분류에 사용되는 선형 모델"
   ],
   "metadata": {
    "collapsed": false
   }
  },
  {
   "cell_type": "markdown",
   "source": [
    "# 단순 선형 회귀를 통한 회귀 이해\n",
    "독립변수 1개인 경우: 함수의 기울기와 y절편이 회귀 계수\n",
    "잔차 (|실제 값 - 회귀 모델|) 합의 최소화\n",
    "=> 오류의 합은 잔차의 절대값, 혹은 잔차 제곰의 합으로 구함\n",
    "\n",
    "RSS는 회귀에서 비용임\n",
    "비용 함수 (손실 함수): w 변수로 구성되는 RSS"
   ],
   "metadata": {
    "collapsed": false
   }
  },
  {
   "cell_type": "markdown",
   "source": [
    "# 경사 하강법 (Gradient Descent)\n",
    "\n",
    "고차원 방정식을 해결하기 위한 방법\n",
    "점진적으로 반복적인 계산을 통해 W 파라미터값 업데이트 -> 오류 값이 최소가 되는 W 파라미터 구함\n",
    "미분 값이 계속 감소하는 방향으로 순차적으로 w를 업데이트\n",
    "\n",
    "-> 각 변수(w)의 편미분한 결과를 반복적으로 보정하면서 R(w)가 최소가 되는 w1, w0 를 구함\n",
    "\n",
    "## 경사하강법의 구현"
   ],
   "metadata": {
    "collapsed": false
   }
  },
  {
   "cell_type": "code",
   "execution_count": 2,
   "metadata": {
    "collapsed": true
   },
   "outputs": [
    {
     "data": {
      "text/plain": "<matplotlib.collections.PathCollection at 0x1550dce20>"
     },
     "execution_count": 2,
     "metadata": {},
     "output_type": "execute_result"
    },
    {
     "data": {
      "text/plain": "<Figure size 640x480 with 1 Axes>",
      "image/png": "[encoded data removed]"
     },
     "metadata": {},
     "output_type": "display_data"
    }
   ],
   "source": [
    "import numpy as np\n",
    "import matplotlib.pyplot as plt\n",
    "%matplotlib inline\n",
    "\n",
    "np.random.seed(0)\n",
    "# y = 4x + 6 (w1 = 4, w0 = 6)\n",
    "X = 2 * np.random.rand(100, 1)\n",
    "y = 6 + 4 * X + + np.random.randn(100, 1)\n",
    "\n",
    "plt.scatter(X, y)"
   ]
  },
  {
   "cell_type": "code",
   "execution_count": 7,
   "outputs": [
    {
     "name": "stdout",
     "output_type": "stream",
     "text": [
      "[[1.09762701]\n",
      " [1.43037873]\n",
      " [1.20552675]\n",
      " [1.08976637]\n",
      " [0.8473096 ]\n",
      " [1.29178823]\n",
      " [0.87517442]\n",
      " [1.783546  ]\n",
      " [1.92732552]\n",
      " [0.76688304]\n",
      " [1.58345008]\n",
      " [1.05778984]\n",
      " [1.13608912]\n",
      " [1.85119328]\n",
      " [0.14207212]\n",
      " [0.1742586 ]\n",
      " [0.04043679]\n",
      " [1.66523969]\n",
      " [1.5563135 ]\n",
      " [1.7400243 ]\n",
      " [1.95723668]\n",
      " [1.59831713]\n",
      " [0.92295872]\n",
      " [1.56105835]\n",
      " [0.23654885]\n",
      " [1.27984204]\n",
      " [0.28670657]\n",
      " [1.88933783]\n",
      " [1.04369664]\n",
      " [0.82932388]\n",
      " [0.52911122]\n",
      " [1.54846738]\n",
      " [0.91230066]\n",
      " [1.1368679 ]\n",
      " [0.0375796 ]\n",
      " [1.23527099]\n",
      " [1.22419145]\n",
      " [1.23386799]\n",
      " [1.88749616]\n",
      " [1.3636406 ]\n",
      " [0.7190158 ]\n",
      " [0.87406391]\n",
      " [1.39526239]\n",
      " [0.12045094]\n",
      " [1.33353343]\n",
      " [1.34127574]\n",
      " [0.42076512]\n",
      " [0.2578526 ]\n",
      " [0.6308567 ]\n",
      " [0.72742154]\n",
      " [1.14039354]\n",
      " [0.87720303]\n",
      " [1.97674768]\n",
      " [0.20408962]\n",
      " [0.41775351]\n",
      " [0.32261904]\n",
      " [1.30621665]\n",
      " [0.50658321]\n",
      " [0.93262155]\n",
      " [0.48885118]\n",
      " [0.31793917]\n",
      " [0.22075028]\n",
      " [1.31265918]\n",
      " [0.2763659 ]\n",
      " [0.39316472]\n",
      " [0.73745034]\n",
      " [1.64198646]\n",
      " [0.19420255]\n",
      " [1.67588981]\n",
      " [0.19219682]\n",
      " [1.95291893]\n",
      " [0.9373024 ]\n",
      " [1.95352218]\n",
      " [1.20969104]\n",
      " [1.47852716]\n",
      " [0.07837558]\n",
      " [0.56561393]\n",
      " [0.24039312]\n",
      " [0.5922804 ]\n",
      " [0.23745544]\n",
      " [0.63596636]\n",
      " [0.82852599]\n",
      " [0.12829499]\n",
      " [1.38494424]\n",
      " [1.13320291]\n",
      " [0.53077898]\n",
      " [1.04649611]\n",
      " [0.18788102]\n",
      " [1.15189299]\n",
      " [1.8585924 ]\n",
      " [0.6371379 ]\n",
      " [1.33482076]\n",
      " [0.26359572]\n",
      " [1.43265441]\n",
      " [0.57881219]\n",
      " [0.36638272]\n",
      " [1.17302587]\n",
      " [0.04021509]\n",
      " [1.65788006]\n",
      " [0.00939095]]\n"
     ]
    }
   ],
   "source": [
    "print(X)"
   ],
   "metadata": {
    "collapsed": false
   }
  },
  {
   "cell_type": "code",
   "execution_count": 3,
   "outputs": [],
   "source": [
    "# define function\n",
    "\n",
    "def get_cost(y, y_prd):\n",
    "    N = len(y)\n",
    "    cost = np.sum(np.square(y - y_prd)) / N\n",
    "    return cost"
   ],
   "metadata": {
    "collapsed": false
   }
  },
  {
   "cell_type": "markdown",
   "source": [],
   "metadata": {
    "collapsed": false
   }
  },
  {
   "cell_type": "code",
   "execution_count": 9,
   "outputs": [],
   "source": [
    "def get_weight_updates(w1, w0, X, y, learning_rate=0.01):\n",
    "    N = len(y)\n",
    "    # Initialize zero matrix\n",
    "    w1_update = np.zeros_like(w1)\n",
    "    w0_update = np.zeros_like(w0)\n",
    "    # Calculate estimated matrix, difference\n",
    "    y_prd = np.dot(X, w1.T) + w0\n",
    "    diff = y - y_prd\n",
    "\n",
    "    # new metrix to calculate dot in w0_update\n",
    "    w0_factors = np.ones((N, 1))\n",
    "\n",
    "    # Update w1 and w0\n",
    "    w1_update = -(2 / N) * learning_rate * (np.dot(X.T, diff))\n",
    "    w0_update = -(2 / N) * learning_rate * (np.dot(w0_factors.T, diff))\n",
    "\n",
    "    return w1_update, w0_update"
   ],
   "metadata": {
    "collapsed": false
   }
  },
  {
   "cell_type": "code",
   "execution_count": 10,
   "outputs": [],
   "source": [
    "# Iteratively apply update\n",
    "def gradient_descent_steps(X, y, iters=10000):\n",
    "    # Initialize\n",
    "    w0 = np.zeros((1, 1))\n",
    "    w1 = np.zeros((1, 1))\n",
    "\n",
    "    # Iteratively\n",
    "    for ind in range(iters):\n",
    "        w1_update, w0_update = get_weight_updates(w1, w0, X, y, learning_rate=0.01)\n",
    "        w1 = w1 - w1_update\n",
    "        w0 = w0 - w0_update\n",
    "\n",
    "    return w1, w0"
   ],
   "metadata": {
    "collapsed": false
   }
  },
  {
   "cell_type": "code",
   "execution_count": 12,
   "outputs": [
    {
     "name": "stdout",
     "output_type": "stream",
     "text": [
      "w1: 4.022, w0: 6.162\n",
      "Gradient Descent Total Cost: 0.9935\n"
     ]
    }
   ],
   "source": [
    "def get_cost(y, y_prd):\n",
    "    N = len(y)\n",
    "    cost = np.sum(np.square(y - y_prd)) / N\n",
    "    return cost\n",
    "\n",
    "w1, w0 = gradient_descent_steps(X, y, iters=1000)\n",
    "print(\"w1: {0:.3f}, w0: {1:.3f}\".format(w1[0, 0], w0[0, 0]))\n",
    "y_prd = w1[0, 0] * X + w0\n",
    "print(\"Gradient Descent Total Cost: {0:.4f}\".format(get_cost(y, y_prd)))"
   ],
   "metadata": {
    "collapsed": false
   }
  },
  {
   "cell_type": "code",
   "execution_count": 14,
   "outputs": [
    {
     "data": {
      "text/plain": "[<matplotlib.lines.Line2D at 0x15653f4f0>]"
     },
     "execution_count": 14,
     "metadata": {},
     "output_type": "execute_result"
    },
    {
     "data": {
      "text/plain": "<Figure size 640x480 with 1 Axes>",
      "image/png": "[encoded data removed]"
     },
     "metadata": {},
     "output_type": "display_data"
    }
   ],
   "source": [
    "plt.scatter(X, y)\n",
    "plt.plot(X, y_prd)"
   ],
   "metadata": {
    "collapsed": false
   }
  },
  {
   "cell_type": "markdown",
   "source": [
    "실제로 경사 하강법은 값 업데이트로 인해 수행시간이 매우 오래 걸림.\n",
    "확률적 경사 하강법을 실전에서 주로 이용: 일부 데이터만 이용해 w가 업데이트되는 값을 계산\n",
    "\n",
    "미니 배치 확률적 경사 하강법"
   ],
   "metadata": {
    "collapsed": false
   }
  },
  {
   "cell_type": "code",
   "execution_count": 15,
   "outputs": [],
   "source": [
    "def stochastic_gradient_descent_steps(X, y, batch_size=10, iters=1000):\n",
    "    w0 = np.zeros((1, 1))\n",
    "    w1 = np.zeros((1, 1))\n",
    "    prev_cost = 100000\n",
    "    iter_index = 0\n",
    "\n",
    "    for ind in range(iters):\n",
    "        np.random.seed(ind)\n",
    "        # randomly pick up batch_size -> save to sample_X, sample_Y\n",
    "        stochastic_random_index = np.random.permutation(X.shape[0])\n",
    "        sample_X = X[stochastic_random_index[0:batch_size]]\n",
    "        sample_y = y[stochastic_random_index[0:batch_size]]\n",
    "\n",
    "        # calculate w1_update, w0_update and update\n",
    "        w1_update, w0_update = get_weight_updates(w1, w0, sample_X, sample_y, learning_rate=0.01)\n",
    "        w1 = w1 - w1_update\n",
    "        w0 = w0 - w0_update\n",
    "\n",
    "    return w1, w0"
   ],
   "metadata": {
    "collapsed": false
   }
  },
  {
   "cell_type": "code",
   "execution_count": 17,
   "outputs": [
    {
     "name": "stdout",
     "output_type": "stream",
     "text": [
      "w1: 4.028, w0: 6.156\n",
      "Stochastic Gradient Descent Total Cost: 0.9937\n"
     ]
    }
   ],
   "source": [
    "w1, w0 = stochastic_gradient_descent_steps(X, y, iters=1000)\n",
    "print(\"w1: {0}, w0: {1}\".format(round(w1[0, 0], 3), round(w0[0, 0], 3)))\n",
    "y_prd = w1[0, 0] * X + w0\n",
    "print(\"Stochastic Gradient Descent Total Cost: {0:.4f}\".format(get_cost(y, y_prd)))"
   ],
   "metadata": {
    "collapsed": false
   }
  },
  {
   "cell_type": "markdown",
   "source": [
    "예측 변수가 여러 개라면?\n",
    "회귀 계수가 많아지더라도 선형대수 이용해서 도출 가능"
   ],
   "metadata": {
    "collapsed": false
   }
  },
  {
   "cell_type": "code",
   "execution_count": null,
   "outputs": [],
   "source": [],
   "metadata": {
    "collapsed": false
   }
  }
 ],
 "metadata": {
  "kernelspec": {
   "display_name": "Python 3",
   "language": "python",
   "name": "python3"
  },
  "language_info": {
   "codemirror_mode": {
    "name": "ipython",
    "version": 2
   },
   "file_extension": ".py",
   "mimetype": "text/x-python",
   "name": "python",
   "nbconvert_exporter": "python",
   "pygments_lexer": "ipython2",
   "version": "2.7.6"
  }
 },
 "nbformat": 4,
 "nbformat_minor": 0
}
