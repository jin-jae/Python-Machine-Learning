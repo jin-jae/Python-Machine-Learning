{
 "cells": [
  {
   "cell_type": "markdown",
   "source": [
    "# Hyper Parameter Tuning using Bayesian Optimization based HyperOpt\n",
    "Why? Grid Search takes toooooo much time!"
   ],
   "metadata": {
    "collapsed": false
   }
  },
  {
   "cell_type": "code",
   "execution_count": 1,
   "metadata": {
    "collapsed": true
   },
   "outputs": [],
   "source": [
    "# What if params be like...\n",
    "\n",
    "params = {\n",
    "    \"max_depth\": [10, 20, 30, 40, 50],\n",
    "    \"num_leaves\": [35, 45, 55, 65],\n",
    "    \"colsample_bytree\": [0.5, 0.6, 0.7, 0.8, 0.9],\n",
    "    \"subsample\": [0.5, 0.6, 0.7, 0.8, 0.9],\n",
    "    \"min_child_weight\": [10, 20, 30, 40],\n",
    "    \"reg_alpha\": [0.01, 0.05, 0.1],\n",
    "}"
   ]
  },
  {
   "cell_type": "markdown",
   "source": [
    "## Overview of Bayesian Optimization\n",
    "afterwards model creates based on new inputs\n",
    "\n",
    "- Surrogate Model: recommends inputs\n",
    "- Acquisition Function: calculates optimized inputs\n",
    "\n",
    "Bayesian Optimization Steps\n",
    "1. 파라미터 샘플링 및 성능 관측\n",
    "2. 대체 모델이 최적 함수를 추정 (신뢰 구간 제공)\n",
    "3. 획득 함수가 다음 관측할 하이퍼 파라미터 값 계산 -> 대체 모델에 전달\n",
    "4. 대체 모델은 다시 갱신되어 최적 함수 예측 추정\n",
    "\n",
    "optimized function => generally Gaussian Process, but HyperOpt uses TPE (Tree-structure Parzen Estimator)"
   ],
   "metadata": {
    "collapsed": false
   }
  },
  {
   "cell_type": "code",
   "execution_count": 2,
   "outputs": [
    {
     "name": "stdout",
     "output_type": "stream",
     "text": [
      "Collecting hyperopt\r\n",
      "  Downloading hyperopt-0.2.7-py2.py3-none-any.whl (1.6 MB)\r\n",
      "\u001B[2K     \u001B[90m━━━━━━━━━━━━━━━━━━━━━━━━━━━━━━━━━━━━━━━━\u001B[0m \u001B[32m1.6/1.6 MB\u001B[0m \u001B[31m33.7 MB/s\u001B[0m eta \u001B[36m0:00:00\u001B[0ma \u001B[36m0:00:01\u001B[0m\r\n",
      "\u001B[?25hRequirement already satisfied: cloudpickle in /opt/anaconda3/lib/python3.9/site-packages (from hyperopt) (2.0.0)\r\n",
      "Requirement already satisfied: networkx>=2.2 in /opt/anaconda3/lib/python3.9/site-packages (from hyperopt) (2.8.4)\r\n",
      "Requirement already satisfied: numpy in /opt/anaconda3/lib/python3.9/site-packages (from hyperopt) (1.21.5)\r\n",
      "Collecting py4j\r\n",
      "  Downloading py4j-0.10.9.7-py2.py3-none-any.whl (200 kB)\r\n",
      "\u001B[2K     \u001B[90m━━━━━━━━━━━━━━━━━━━━━━━━━━━━━━━━━━━━━━\u001B[0m \u001B[32m200.5/200.5 kB\u001B[0m \u001B[31m25.2 MB/s\u001B[0m eta \u001B[36m0:00:00\u001B[0m\r\n",
      "\u001B[?25hRequirement already satisfied: six in /opt/anaconda3/lib/python3.9/site-packages (from hyperopt) (1.16.0)\r\n",
      "Requirement already satisfied: tqdm in /opt/anaconda3/lib/python3.9/site-packages (from hyperopt) (4.64.1)\r\n",
      "Requirement already satisfied: scipy in /opt/anaconda3/lib/python3.9/site-packages (from hyperopt) (1.9.1)\r\n",
      "Requirement already satisfied: future in /opt/anaconda3/lib/python3.9/site-packages (from hyperopt) (0.18.2)\r\n",
      "Installing collected packages: py4j, hyperopt\r\n",
      "Successfully installed hyperopt-0.2.7 py4j-0.10.9.7\r\n"
     ]
    }
   ],
   "source": [
    "!pip install hyperopt"
   ],
   "metadata": {
    "collapsed": false
   }
  },
  {
   "cell_type": "code",
   "execution_count": 3,
   "outputs": [],
   "source": [
    "from hyperopt import hp\n",
    "\n",
    "search_space = {'x': hp.quniform('x', -10, 10, 1), 'y': hp.quniform('y', -15, 15, 1)}"
   ],
   "metadata": {
    "collapsed": false
   }
  },
  {
   "cell_type": "markdown",
   "source": [
    "hp.quniform(label, low, high, q): label space will be from low to high (q steps)\n",
    "hp.uniform(label, low, high): label space will be from low to high (normal distribution)\n",
    "hp.randint(label, upper): label space will be from 0 to maximum upper (integer)\n",
    "hp.loguniform(label, low, high): uniform(low, high), but return's log value will be normal distribution\n",
    "hp.choice(label, options): use if search value contains string or character"
   ],
   "metadata": {
    "collapsed": false
   }
  },
  {
   "cell_type": "code",
   "execution_count": 4,
   "outputs": [],
   "source": [
    "from hyperopt import STATUS_OK\n",
    "\n",
    "def objective_func(search_space):\n",
    "    x = search_space['x']\n",
    "    y = search_space['y']\n",
    "    retval = x ** 2 - 20 * y\n",
    "\n",
    "    return retval"
   ],
   "metadata": {
    "collapsed": false
   }
  },
  {
   "cell_type": "markdown",
   "source": [
    "fmin(objective, space, algo, max_evals, trials)\n",
    "- fn: objective function\n",
    "- space: search space\n",
    "- algo \\[default=\"tpe.suggest\"]: Bayesian optimization algorithm\n",
    "- max_evals: input trials\n",
    "- trials: saves inputs and return values\n",
    "- rstate: fmin() random seed value"
   ],
   "metadata": {
    "collapsed": false
   }
  },
  {
   "cell_type": "code",
   "execution_count": 19,
   "outputs": [
    {
     "name": "stdout",
     "output_type": "stream",
     "text": [
      "100%|██████████| 5/5 [00:00<00:00, 1155.77trial/s, best loss: -224.0]\n",
      "best:  {'x': -4.0, 'y': 12.0}\n"
     ]
    }
   ],
   "source": [
    "import numpy as np\n",
    "from hyperopt import fmin, tpe, Trials\n",
    "\n",
    "trial_val = Trials()\n",
    "\n",
    "best_01 = fmin(fn=objective_func, space=search_space, algo=tpe.suggest, max_evals=5,\n",
    "               trials=trial_val, rstate=np.random.default_rng(seed=0))\n",
    "\n",
    "print(\"best: \", best_01)"
   ],
   "metadata": {
    "collapsed": false
   }
  },
  {
   "cell_type": "code",
   "execution_count": 20,
   "outputs": [
    {
     "name": "stdout",
     "output_type": "stream",
     "text": [
      "100%|██████████| 20/20 [00:00<00:00, 1323.43trial/s, best loss: -296.0]\n",
      "best:  {'x': 2.0, 'y': 15.0}\n"
     ]
    }
   ],
   "source": [
    "# 20 times evaluations\n",
    "best_02 = fmin(fn=objective_func, space=search_space, algo=tpe.suggest, max_evals=20,\n",
    "               trials=trial_val, rstate=np.random.default_rng(seed=0))\n",
    "\n",
    "print(\"best: \", best_02)"
   ],
   "metadata": {
    "collapsed": false
   }
  },
  {
   "cell_type": "code",
   "execution_count": 13,
   "outputs": [
    {
     "name": "stdout",
     "output_type": "stream",
     "text": [
      "100%|██████████| 1000/1000 [00:15<00:00, 58.34trial/s, best loss: -300.0]\n",
      "best:  {'x': -0.0, 'y': 15.0}\n"
     ]
    }
   ],
   "source": [
    "best_03 = fmin(fn=objective_func, space=search_space, algo=tpe.suggest, max_evals=1000,\n",
    "               trials=trial_val, rstate=np.random.default_rng(seed=0))\n",
    "\n",
    "print(\"best: \", best_03)"
   ],
   "metadata": {
    "collapsed": false
   }
  },
  {
   "cell_type": "code",
   "execution_count": 21,
   "outputs": [
    {
     "name": "stdout",
     "output_type": "stream",
     "text": [
      "[{'loss': -64.0, 'status': 'ok'}, {'loss': -184.0, 'status': 'ok'}, {'loss': 56.0, 'status': 'ok'}, {'loss': -224.0, 'status': 'ok'}, {'loss': 61.0, 'status': 'ok'}, {'loss': -64.0, 'status': 'ok'}, {'loss': -184.0, 'status': 'ok'}, {'loss': 56.0, 'status': 'ok'}, {'loss': -224.0, 'status': 'ok'}, {'loss': 61.0, 'status': 'ok'}, {'loss': -296.0, 'status': 'ok'}, {'loss': -40.0, 'status': 'ok'}, {'loss': 281.0, 'status': 'ok'}, {'loss': 64.0, 'status': 'ok'}, {'loss': 100.0, 'status': 'ok'}, {'loss': 60.0, 'status': 'ok'}, {'loss': -39.0, 'status': 'ok'}, {'loss': 1.0, 'status': 'ok'}, {'loss': -164.0, 'status': 'ok'}, {'loss': 21.0, 'status': 'ok'}]\n"
     ]
    }
   ],
   "source": [
    "print(trial_val.results)"
   ],
   "metadata": {
    "collapsed": false
   }
  },
  {
   "cell_type": "code",
   "execution_count": 22,
   "outputs": [
    {
     "name": "stdout",
     "output_type": "stream",
     "text": [
      "{'x': [-6.0, -4.0, 4.0, -4.0, 9.0, -6.0, -4.0, 4.0, -4.0, 9.0, 2.0, 10.0, -9.0, -8.0, -0.0, -0.0, 1.0, 9.0, 6.0, 9.0], 'y': [5.0, 10.0, -2.0, 12.0, 1.0, 5.0, 10.0, -2.0, 12.0, 1.0, 15.0, 7.0, -10.0, 0.0, -5.0, -3.0, 2.0, 4.0, 10.0, 3.0]}\n"
     ]
    }
   ],
   "source": [
    "print(trial_val.vals)"
   ],
   "metadata": {
    "collapsed": false
   }
  },
  {
   "cell_type": "code",
   "execution_count": 23,
   "outputs": [
    {
     "data": {
      "text/plain": "       x     y  losses\n0   -6.0   5.0   -64.0\n1   -4.0  10.0  -184.0\n2    4.0  -2.0    56.0\n3   -4.0  12.0  -224.0\n4    9.0   1.0    61.0\n5   -6.0   5.0   -64.0\n6   -4.0  10.0  -184.0\n7    4.0  -2.0    56.0\n8   -4.0  12.0  -224.0\n9    9.0   1.0    61.0\n10   2.0  15.0  -296.0\n11  10.0   7.0   -40.0\n12  -9.0 -10.0   281.0\n13  -8.0   0.0    64.0\n14  -0.0  -5.0   100.0\n15  -0.0  -3.0    60.0\n16   1.0   2.0   -39.0\n17   9.0   4.0     1.0\n18   6.0  10.0  -164.0\n19   9.0   3.0    21.0",
      "text/html": "<div>\n<style scoped>\n    .dataframe tbody tr th:only-of-type {\n        vertical-align: middle;\n    }\n\n    .dataframe tbody tr th {\n        vertical-align: top;\n    }\n\n    .dataframe thead th {\n        text-align: right;\n    }\n</style>\n<table border=\"1\" class=\"dataframe\">\n  <thead>\n    <tr style=\"text-align: right;\">\n      <th></th>\n      <th>x</th>\n      <th>y</th>\n      <th>losses</th>\n    </tr>\n  </thead>\n  <tbody>\n    <tr>\n      <th>0</th>\n      <td>-6.0</td>\n      <td>5.0</td>\n      <td>-64.0</td>\n    </tr>\n    <tr>\n      <th>1</th>\n      <td>-4.0</td>\n      <td>10.0</td>\n      <td>-184.0</td>\n    </tr>\n    <tr>\n      <th>2</th>\n      <td>4.0</td>\n      <td>-2.0</td>\n      <td>56.0</td>\n    </tr>\n    <tr>\n      <th>3</th>\n      <td>-4.0</td>\n      <td>12.0</td>\n      <td>-224.0</td>\n    </tr>\n    <tr>\n      <th>4</th>\n      <td>9.0</td>\n      <td>1.0</td>\n      <td>61.0</td>\n    </tr>\n    <tr>\n      <th>5</th>\n      <td>-6.0</td>\n      <td>5.0</td>\n      <td>-64.0</td>\n    </tr>\n    <tr>\n      <th>6</th>\n      <td>-4.0</td>\n      <td>10.0</td>\n      <td>-184.0</td>\n    </tr>\n    <tr>\n      <th>7</th>\n      <td>4.0</td>\n      <td>-2.0</td>\n      <td>56.0</td>\n    </tr>\n    <tr>\n      <th>8</th>\n      <td>-4.0</td>\n      <td>12.0</td>\n      <td>-224.0</td>\n    </tr>\n    <tr>\n      <th>9</th>\n      <td>9.0</td>\n      <td>1.0</td>\n      <td>61.0</td>\n    </tr>\n    <tr>\n      <th>10</th>\n      <td>2.0</td>\n      <td>15.0</td>\n      <td>-296.0</td>\n    </tr>\n    <tr>\n      <th>11</th>\n      <td>10.0</td>\n      <td>7.0</td>\n      <td>-40.0</td>\n    </tr>\n    <tr>\n      <th>12</th>\n      <td>-9.0</td>\n      <td>-10.0</td>\n      <td>281.0</td>\n    </tr>\n    <tr>\n      <th>13</th>\n      <td>-8.0</td>\n      <td>0.0</td>\n      <td>64.0</td>\n    </tr>\n    <tr>\n      <th>14</th>\n      <td>-0.0</td>\n      <td>-5.0</td>\n      <td>100.0</td>\n    </tr>\n    <tr>\n      <th>15</th>\n      <td>-0.0</td>\n      <td>-3.0</td>\n      <td>60.0</td>\n    </tr>\n    <tr>\n      <th>16</th>\n      <td>1.0</td>\n      <td>2.0</td>\n      <td>-39.0</td>\n    </tr>\n    <tr>\n      <th>17</th>\n      <td>9.0</td>\n      <td>4.0</td>\n      <td>1.0</td>\n    </tr>\n    <tr>\n      <th>18</th>\n      <td>6.0</td>\n      <td>10.0</td>\n      <td>-164.0</td>\n    </tr>\n    <tr>\n      <th>19</th>\n      <td>9.0</td>\n      <td>3.0</td>\n      <td>21.0</td>\n    </tr>\n  </tbody>\n</table>\n</div>"
     },
     "execution_count": 23,
     "metadata": {},
     "output_type": "execute_result"
    }
   ],
   "source": [
    "import pandas as pd\n",
    "\n",
    "losses = [loss_dict[\"loss\"] for loss_dict in trial_val.results]\n",
    "\n",
    "result_df = pd.DataFrame({'x': trial_val.vals['x'], 'y': trial_val.vals['y'], 'losses': losses})\n",
    "result_df"
   ],
   "metadata": {
    "collapsed": false
   }
  },
  {
   "cell_type": "markdown",
   "source": [
    "## Hyper parameter Optimization using HyperOpt"
   ],
   "metadata": {
    "collapsed": false
   }
  },
  {
   "cell_type": "code",
   "execution_count": 2,
   "outputs": [],
   "source": [
    "import pandas as pd\n",
    "\n",
    "from sklearn.datasets import load_breast_cancer\n",
    "from sklearn.model_selection import train_test_split\n",
    "\n",
    "dataset = load_breast_cancer()\n",
    "\n",
    "cancer_df = pd.DataFrame(data=dataset.data, columns=dataset.feature_names)\n",
    "cancer_df[\"target\"] = dataset.target\n",
    "X_features = cancer_df.iloc[:, :-1]\n",
    "y_label = cancer_df.iloc[:, -1]\n",
    "\n",
    "# 80% train set, 20% test set\n",
    "X_train, X_test, y_train, y_test = train_test_split(X_features, y_label, test_size=0.2, random_state=156)\n",
    "\n",
    "X_tr, X_val, y_tr, y_val = train_test_split(X_train, y_train, test_size=0.1, random_state=156)"
   ],
   "metadata": {
    "collapsed": false
   }
  },
  {
   "cell_type": "code",
   "execution_count": 3,
   "outputs": [],
   "source": [
    "from hyperopt import hp\n",
    "\n",
    "# max_depth: 5~20, 1 step\n",
    "# min_child_weight: 1~2, 1 step\n",
    "# colsample_bytree: 0.5~1\n",
    "#learning_rate: 0.01~0.3, normal-distributed\n",
    "xgb_search_space = {\n",
    "    \"max_depth\": hp.quniform(\"max_depth\", 5, 20, 1),\n",
    "    \"min_child_weight\": hp.quniform(\"min_child_weight\", 1, 2, 1),\n",
    "    \"learning_rate\": hp.uniform(\"learning_rate\", 0.01, 0.2),\n",
    "    \"colsample_bytree\": hp.uniform(\"colsample_bytree\", 0.5, 1),\n",
    "}"
   ],
   "metadata": {
    "collapsed": false
   }
  },
  {
   "cell_type": "markdown",
   "source": [
    "caution\n",
    "- quniform searches number with real number; it should be like integer\n",
    "- Hyperopt's objective function should return minimum value -> if bigger value is better, it should be returned after multiply -1"
   ],
   "metadata": {
    "collapsed": false
   }
  },
  {
   "cell_type": "code",
   "execution_count": 4,
   "outputs": [],
   "source": [
    "from sklearn.model_selection import cross_val_score\n",
    "from xgboost import XGBClassifier\n",
    "from hyperopt import STATUS_OK\n",
    "\n",
    "def objective_func(search_space):\n",
    "    xgb_clf = XGBClassifier(n_estimators=100, max_depth=int(search_space[\"max_depth\"]),\n",
    "                            min_child_weight=int(search_space[\"min_child_weight\"]),\n",
    "                            learning_rate=search_space[\"learning_rate\"],\n",
    "                            colsample_bytree=search_space[\"colsample_bytree\"],\n",
    "                            eval_metric=\"logloss\")\n",
    "    accuracy = cross_val_score(xgb_clf, X_train, y_train, scoring=\"accuracy\", cv=3)\n",
    "\n",
    "    # accuracy will be an array (that has roc-auc)\n",
    "    return {\"loss\":-1 * np.mean(accuracy), \"status\": STATUS_OK}"
   ],
   "metadata": {
    "collapsed": false
   }
  },
  {
   "cell_type": "code",
   "execution_count": 6,
   "outputs": [
    {
     "name": "stdout",
     "output_type": "stream",
     "text": [
      "100%|██████████| 50/50 [00:22<00:00,  2.22trial/s, best loss: -0.9692401533635412]\n",
      "best: {'colsample_bytree': 0.548301545497125, 'learning_rate': 0.1840281762576621, 'max_depth': 18.0, 'min_child_weight': 2.0}\n"
     ]
    }
   ],
   "source": [
    "# search hyper parameter\n",
    "import numpy as np\n",
    "from hyperopt import fmin, tpe, Trials\n",
    "\n",
    "trial_val = Trials()\n",
    "\n",
    "best = fmin(fn=objective_func,\n",
    "            space=xgb_search_space,\n",
    "            algo=tpe.suggest,\n",
    "            max_evals=50,\n",
    "            trials=trial_val,\n",
    "            rstate=np.random.default_rng(seed=9))\n",
    "\n",
    "print(\"best:\", best)"
   ],
   "metadata": {
    "collapsed": false
   }
  },
  {
   "cell_type": "code",
   "execution_count": 7,
   "outputs": [
    {
     "name": "stdout",
     "output_type": "stream",
     "text": [
      "colsample_bytree:0.5483, learning_rate:0.18403, max_depth:18, min_child_weight:2\n"
     ]
    }
   ],
   "source": [
    "print(\"colsample_bytree:{0}, learning_rate:{1}, max_depth:{2}, min_child_weight:{3}\".format(round(best[\"colsample_bytree\"], 5), round(best[\"learning_rate\"], 5),\n",
    "                                                                                            int(best[\"max_depth\"]), int(best[\"min_child_weight\"])))"
   ],
   "metadata": {
    "collapsed": false
   }
  },
  {
   "cell_type": "code",
   "execution_count": 8,
   "outputs": [],
   "source": [
    "from sklearn.metrics import confusion_matrix, accuracy_score, precision_score, recall_score, f1_score, roc_auc_score\n",
    "\n",
    "\n",
    "def get_clf_eval(y_test, pred=None, pred_proba=None):\n",
    "    confusion = confusion_matrix(y_test, pred)\n",
    "    accuracy = accuracy_score(y_test, pred)\n",
    "    precision = precision_score(y_test, pred)\n",
    "    recall = recall_score(y_test, pred)\n",
    "    f1 = f1_score(y_test, pred)\n",
    "    roc_auc = roc_auc_score(y_test, pred_proba)\n",
    "    print(\"confusion matrix: \\n\", confusion)\n",
    "    print(\"accuracy: {0:.4f}, precision: {1:.4f}, recall: {2:.4f}, f1: {3:.4f}, ROC-AUC: {4:.4f}\"\n",
    "          .format(accuracy, precision, recall, f1, roc_auc))"
   ],
   "metadata": {
    "collapsed": false
   }
  },
  {
   "cell_type": "code",
   "execution_count": 10,
   "outputs": [
    {
     "name": "stdout",
     "output_type": "stream",
     "text": [
      "[0]\tvalidation_0-logloss:0.54472\tvalidation_1-logloss:0.58675\n",
      "[1]\tvalidation_0-logloss:0.44155\tvalidation_1-logloss:0.52577\n",
      "[2]\tvalidation_0-logloss:0.36542\tvalidation_1-logloss:0.48906\n",
      "[3]\tvalidation_0-logloss:0.30756\tvalidation_1-logloss:0.45704\n",
      "[4]\tvalidation_0-logloss:0.26142\tvalidation_1-logloss:0.41671\n",
      "[5]\tvalidation_0-logloss:0.22616\tvalidation_1-logloss:0.39605\n",
      "[6]\tvalidation_0-logloss:0.19465\tvalidation_1-logloss:0.37095\n",
      "[7]\tvalidation_0-logloss:0.16951\tvalidation_1-logloss:0.36066\n",
      "[8]\tvalidation_0-logloss:0.14718\tvalidation_1-logloss:0.34686\n",
      "[9]\tvalidation_0-logloss:0.13006\tvalidation_1-logloss:0.33716\n",
      "[10]\tvalidation_0-logloss:0.11635\tvalidation_1-logloss:0.32332\n",
      "[11]\tvalidation_0-logloss:0.10455\tvalidation_1-logloss:0.32074\n",
      "[12]\tvalidation_0-logloss:0.09388\tvalidation_1-logloss:0.31916\n",
      "[13]\tvalidation_0-logloss:0.08434\tvalidation_1-logloss:0.30987\n",
      "[14]\tvalidation_0-logloss:0.07702\tvalidation_1-logloss:0.30469\n",
      "[15]\tvalidation_0-logloss:0.07144\tvalidation_1-logloss:0.30293\n",
      "[16]\tvalidation_0-logloss:0.06649\tvalidation_1-logloss:0.29610\n",
      "[17]\tvalidation_0-logloss:0.06119\tvalidation_1-logloss:0.29303\n",
      "[18]\tvalidation_0-logloss:0.05693\tvalidation_1-logloss:0.28973\n",
      "[19]\tvalidation_0-logloss:0.05291\tvalidation_1-logloss:0.28781\n",
      "[20]\tvalidation_0-logloss:0.04951\tvalidation_1-logloss:0.28757\n",
      "[21]\tvalidation_0-logloss:0.04603\tvalidation_1-logloss:0.28904\n",
      "[22]\tvalidation_0-logloss:0.04376\tvalidation_1-logloss:0.28744\n",
      "[23]\tvalidation_0-logloss:0.04113\tvalidation_1-logloss:0.29028\n",
      "[24]\tvalidation_0-logloss:0.03932\tvalidation_1-logloss:0.28659\n",
      "[25]\tvalidation_0-logloss:0.03741\tvalidation_1-logloss:0.29059\n",
      "[26]\tvalidation_0-logloss:0.03570\tvalidation_1-logloss:0.28740\n",
      "[27]\tvalidation_0-logloss:0.03416\tvalidation_1-logloss:0.28613\n",
      "[28]\tvalidation_0-logloss:0.03309\tvalidation_1-logloss:0.28441\n",
      "[29]\tvalidation_0-logloss:0.03165\tvalidation_1-logloss:0.28617\n",
      "[30]\tvalidation_0-logloss:0.03059\tvalidation_1-logloss:0.28501\n",
      "[31]\tvalidation_0-logloss:0.02961\tvalidation_1-logloss:0.28505\n",
      "[32]\tvalidation_0-logloss:0.02881\tvalidation_1-logloss:0.28319\n",
      "[33]\tvalidation_0-logloss:0.02801\tvalidation_1-logloss:0.28407\n",
      "[34]\tvalidation_0-logloss:0.02710\tvalidation_1-logloss:0.27684\n",
      "[35]\tvalidation_0-logloss:0.02654\tvalidation_1-logloss:0.27599\n",
      "[36]\tvalidation_0-logloss:0.02591\tvalidation_1-logloss:0.27329\n",
      "[37]\tvalidation_0-logloss:0.02514\tvalidation_1-logloss:0.26722\n",
      "[38]\tvalidation_0-logloss:0.02484\tvalidation_1-logloss:0.26668\n",
      "[39]\tvalidation_0-logloss:0.02424\tvalidation_1-logloss:0.26733\n",
      "[40]\tvalidation_0-logloss:0.02404\tvalidation_1-logloss:0.26721\n",
      "[41]\tvalidation_0-logloss:0.02374\tvalidation_1-logloss:0.26519\n",
      "[42]\tvalidation_0-logloss:0.02351\tvalidation_1-logloss:0.26809\n",
      "[43]\tvalidation_0-logloss:0.02295\tvalidation_1-logloss:0.27016\n",
      "[44]\tvalidation_0-logloss:0.02272\tvalidation_1-logloss:0.26844\n",
      "[45]\tvalidation_0-logloss:0.02252\tvalidation_1-logloss:0.27126\n",
      "[46]\tvalidation_0-logloss:0.02233\tvalidation_1-logloss:0.26975\n",
      "[47]\tvalidation_0-logloss:0.02214\tvalidation_1-logloss:0.26975\n",
      "[48]\tvalidation_0-logloss:0.02175\tvalidation_1-logloss:0.27071\n",
      "[49]\tvalidation_0-logloss:0.02157\tvalidation_1-logloss:0.26926\n",
      "[50]\tvalidation_0-logloss:0.02122\tvalidation_1-logloss:0.27124\n",
      "[51]\tvalidation_0-logloss:0.02087\tvalidation_1-logloss:0.27159\n",
      "[52]\tvalidation_0-logloss:0.02070\tvalidation_1-logloss:0.27435\n",
      "[53]\tvalidation_0-logloss:0.02054\tvalidation_1-logloss:0.27227\n",
      "[54]\tvalidation_0-logloss:0.02040\tvalidation_1-logloss:0.27114\n",
      "[55]\tvalidation_0-logloss:0.02025\tvalidation_1-logloss:0.26898\n",
      "[56]\tvalidation_0-logloss:0.02012\tvalidation_1-logloss:0.27039\n",
      "[57]\tvalidation_0-logloss:0.01998\tvalidation_1-logloss:0.26914\n",
      "[58]\tvalidation_0-logloss:0.01983\tvalidation_1-logloss:0.27181\n",
      "[59]\tvalidation_0-logloss:0.01970\tvalidation_1-logloss:0.27142\n",
      "[60]\tvalidation_0-logloss:0.01956\tvalidation_1-logloss:0.26793\n",
      "[61]\tvalidation_0-logloss:0.01945\tvalidation_1-logloss:0.26890\n",
      "[62]\tvalidation_0-logloss:0.01932\tvalidation_1-logloss:0.26558\n",
      "[63]\tvalidation_0-logloss:0.01922\tvalidation_1-logloss:0.26380\n",
      "[64]\tvalidation_0-logloss:0.01908\tvalidation_1-logloss:0.26627\n",
      "[65]\tvalidation_0-logloss:0.01896\tvalidation_1-logloss:0.26761\n",
      "[66]\tvalidation_0-logloss:0.01885\tvalidation_1-logloss:0.26726\n",
      "[67]\tvalidation_0-logloss:0.01874\tvalidation_1-logloss:0.26420\n",
      "[68]\tvalidation_0-logloss:0.01863\tvalidation_1-logloss:0.26519\n",
      "[69]\tvalidation_0-logloss:0.01852\tvalidation_1-logloss:0.26755\n",
      "[70]\tvalidation_0-logloss:0.01841\tvalidation_1-logloss:0.26766\n",
      "[71]\tvalidation_0-logloss:0.01831\tvalidation_1-logloss:0.26738\n",
      "[72]\tvalidation_0-logloss:0.01821\tvalidation_1-logloss:0.26560\n",
      "[73]\tvalidation_0-logloss:0.01811\tvalidation_1-logloss:0.26778\n",
      "[74]\tvalidation_0-logloss:0.01802\tvalidation_1-logloss:0.26628\n",
      "[75]\tvalidation_0-logloss:0.01792\tvalidation_1-logloss:0.26601\n"
     ]
    },
    {
     "name": "stderr",
     "output_type": "stream",
     "text": [
      "/opt/anaconda3/lib/python3.9/site-packages/xgboost/sklearn.py:835: UserWarning: `eval_metric` in `fit` method is deprecated for better compatibility with scikit-learn, use `eval_metric` in constructor or`set_params` instead.\n",
      "  warnings.warn(\n",
      "/opt/anaconda3/lib/python3.9/site-packages/xgboost/sklearn.py:835: UserWarning: `early_stopping_rounds` in `fit` method is deprecated for better compatibility with scikit-learn, use `early_stopping_rounds` in constructor or`set_params` instead.\n",
      "  warnings.warn(\n"
     ]
    },
    {
     "name": "stdout",
     "output_type": "stream",
     "text": [
      "[76]\tvalidation_0-logloss:0.01782\tvalidation_1-logloss:0.26490\n",
      "[77]\tvalidation_0-logloss:0.01773\tvalidation_1-logloss:0.26706\n",
      "[78]\tvalidation_0-logloss:0.01764\tvalidation_1-logloss:0.26707\n",
      "[79]\tvalidation_0-logloss:0.01755\tvalidation_1-logloss:0.26798\n",
      "[80]\tvalidation_0-logloss:0.01745\tvalidation_1-logloss:0.26496\n",
      "[81]\tvalidation_0-logloss:0.01736\tvalidation_1-logloss:0.26459\n",
      "[82]\tvalidation_0-logloss:0.01728\tvalidation_1-logloss:0.26434\n",
      "[83]\tvalidation_0-logloss:0.01719\tvalidation_1-logloss:0.26527\n",
      "[84]\tvalidation_0-logloss:0.01710\tvalidation_1-logloss:0.26244\n",
      "[85]\tvalidation_0-logloss:0.01702\tvalidation_1-logloss:0.26336\n",
      "[86]\tvalidation_0-logloss:0.01694\tvalidation_1-logloss:0.26229\n",
      "[87]\tvalidation_0-logloss:0.01686\tvalidation_1-logloss:0.26193\n",
      "[88]\tvalidation_0-logloss:0.01678\tvalidation_1-logloss:0.26243\n",
      "[89]\tvalidation_0-logloss:0.01671\tvalidation_1-logloss:0.26481\n",
      "[90]\tvalidation_0-logloss:0.01663\tvalidation_1-logloss:0.26362\n",
      "[91]\tvalidation_0-logloss:0.01656\tvalidation_1-logloss:0.26339\n",
      "[92]\tvalidation_0-logloss:0.01650\tvalidation_1-logloss:0.26328\n",
      "[93]\tvalidation_0-logloss:0.01643\tvalidation_1-logloss:0.26328\n",
      "[94]\tvalidation_0-logloss:0.01636\tvalidation_1-logloss:0.26216\n",
      "[95]\tvalidation_0-logloss:0.01629\tvalidation_1-logloss:0.25971\n",
      "[96]\tvalidation_0-logloss:0.01623\tvalidation_1-logloss:0.26199\n",
      "[97]\tvalidation_0-logloss:0.01616\tvalidation_1-logloss:0.26191\n",
      "[98]\tvalidation_0-logloss:0.01609\tvalidation_1-logloss:0.26160\n",
      "[99]\tvalidation_0-logloss:0.01603\tvalidation_1-logloss:0.26073\n",
      "[100]\tvalidation_0-logloss:0.01597\tvalidation_1-logloss:0.26073\n",
      "[101]\tvalidation_0-logloss:0.01591\tvalidation_1-logloss:0.26052\n",
      "[102]\tvalidation_0-logloss:0.01584\tvalidation_1-logloss:0.26109\n",
      "[103]\tvalidation_0-logloss:0.01579\tvalidation_1-logloss:0.26323\n",
      "[104]\tvalidation_0-logloss:0.01573\tvalidation_1-logloss:0.26322\n",
      "[105]\tvalidation_0-logloss:0.01568\tvalidation_1-logloss:0.26228\n",
      "[106]\tvalidation_0-logloss:0.01562\tvalidation_1-logloss:0.26241\n",
      "[107]\tvalidation_0-logloss:0.01555\tvalidation_1-logloss:0.26004\n",
      "[108]\tvalidation_0-logloss:0.01550\tvalidation_1-logloss:0.25928\n",
      "[109]\tvalidation_0-logloss:0.01544\tvalidation_1-logloss:0.25986\n",
      "[110]\tvalidation_0-logloss:0.01538\tvalidation_1-logloss:0.25964\n",
      "[111]\tvalidation_0-logloss:0.01533\tvalidation_1-logloss:0.25758\n",
      "[112]\tvalidation_0-logloss:0.01527\tvalidation_1-logloss:0.25775\n",
      "[113]\tvalidation_0-logloss:0.01522\tvalidation_1-logloss:0.25833\n",
      "[114]\tvalidation_0-logloss:0.01517\tvalidation_1-logloss:0.25828\n",
      "[115]\tvalidation_0-logloss:0.01512\tvalidation_1-logloss:0.25797\n",
      "[116]\tvalidation_0-logloss:0.01507\tvalidation_1-logloss:0.26003\n",
      "[117]\tvalidation_0-logloss:0.01502\tvalidation_1-logloss:0.25929\n",
      "[118]\tvalidation_0-logloss:0.01497\tvalidation_1-logloss:0.25928\n",
      "[119]\tvalidation_0-logloss:0.01493\tvalidation_1-logloss:0.25928\n",
      "[120]\tvalidation_0-logloss:0.01487\tvalidation_1-logloss:0.25726\n",
      "[121]\tvalidation_0-logloss:0.01483\tvalidation_1-logloss:0.25923\n",
      "[122]\tvalidation_0-logloss:0.01479\tvalidation_1-logloss:0.25943\n",
      "[123]\tvalidation_0-logloss:0.01474\tvalidation_1-logloss:0.25939\n",
      "[124]\tvalidation_0-logloss:0.01469\tvalidation_1-logloss:0.25746\n",
      "[125]\tvalidation_0-logloss:0.01465\tvalidation_1-logloss:0.25768\n",
      "[126]\tvalidation_0-logloss:0.01461\tvalidation_1-logloss:0.25703\n",
      "[127]\tvalidation_0-logloss:0.01457\tvalidation_1-logloss:0.25761\n",
      "[128]\tvalidation_0-logloss:0.01452\tvalidation_1-logloss:0.25755\n",
      "[129]\tvalidation_0-logloss:0.01448\tvalidation_1-logloss:0.25695\n",
      "[130]\tvalidation_0-logloss:0.01444\tvalidation_1-logloss:0.25694\n",
      "[131]\tvalidation_0-logloss:0.01440\tvalidation_1-logloss:0.25884\n",
      "[132]\tvalidation_0-logloss:0.01436\tvalidation_1-logloss:0.25713\n",
      "[133]\tvalidation_0-logloss:0.01432\tvalidation_1-logloss:0.25716\n",
      "[134]\tvalidation_0-logloss:0.01428\tvalidation_1-logloss:0.25690\n",
      "[135]\tvalidation_0-logloss:0.01425\tvalidation_1-logloss:0.25694\n",
      "[136]\tvalidation_0-logloss:0.01421\tvalidation_1-logloss:0.25750\n",
      "[137]\tvalidation_0-logloss:0.01417\tvalidation_1-logloss:0.25745\n",
      "[138]\tvalidation_0-logloss:0.01414\tvalidation_1-logloss:0.25686\n",
      "[139]\tvalidation_0-logloss:0.01410\tvalidation_1-logloss:0.25660\n",
      "[140]\tvalidation_0-logloss:0.01406\tvalidation_1-logloss:0.25843\n",
      "[141]\tvalidation_0-logloss:0.01403\tvalidation_1-logloss:0.25847\n",
      "[142]\tvalidation_0-logloss:0.01400\tvalidation_1-logloss:0.25844\n",
      "[143]\tvalidation_0-logloss:0.01396\tvalidation_1-logloss:0.25898\n",
      "[144]\tvalidation_0-logloss:0.01393\tvalidation_1-logloss:0.25828\n",
      "[145]\tvalidation_0-logloss:0.01390\tvalidation_1-logloss:0.25802\n",
      "[146]\tvalidation_0-logloss:0.01387\tvalidation_1-logloss:0.25825\n",
      "[147]\tvalidation_0-logloss:0.01383\tvalidation_1-logloss:0.25993\n",
      "[148]\tvalidation_0-logloss:0.01380\tvalidation_1-logloss:0.25935\n",
      "[149]\tvalidation_0-logloss:0.01377\tvalidation_1-logloss:0.25931\n",
      "[150]\tvalidation_0-logloss:0.01374\tvalidation_1-logloss:0.25866\n",
      "[151]\tvalidation_0-logloss:0.01370\tvalidation_1-logloss:0.25870\n",
      "[152]\tvalidation_0-logloss:0.01368\tvalidation_1-logloss:0.25894\n",
      "[153]\tvalidation_0-logloss:0.01365\tvalidation_1-logloss:0.25868\n",
      "[154]\tvalidation_0-logloss:0.01362\tvalidation_1-logloss:0.25801\n",
      "[155]\tvalidation_0-logloss:0.01359\tvalidation_1-logloss:0.25750\n",
      "[156]\tvalidation_0-logloss:0.01356\tvalidation_1-logloss:0.25803\n",
      "[157]\tvalidation_0-logloss:0.01353\tvalidation_1-logloss:0.25799\n",
      "[158]\tvalidation_0-logloss:0.01350\tvalidation_1-logloss:0.25962\n",
      "[159]\tvalidation_0-logloss:0.01347\tvalidation_1-logloss:0.25966\n",
      "[160]\tvalidation_0-logloss:0.01344\tvalidation_1-logloss:0.25904\n",
      "[161]\tvalidation_0-logloss:0.01342\tvalidation_1-logloss:0.25930\n",
      "[162]\tvalidation_0-logloss:0.01339\tvalidation_1-logloss:0.25879\n",
      "[163]\tvalidation_0-logloss:0.01336\tvalidation_1-logloss:0.25875\n",
      "[164]\tvalidation_0-logloss:0.01333\tvalidation_1-logloss:0.26031\n",
      "[165]\tvalidation_0-logloss:0.01331\tvalidation_1-logloss:0.26007\n",
      "[166]\tvalidation_0-logloss:0.01329\tvalidation_1-logloss:0.25962\n",
      "[167]\tvalidation_0-logloss:0.01326\tvalidation_1-logloss:0.25964\n",
      "[168]\tvalidation_0-logloss:0.01324\tvalidation_1-logloss:0.26111\n",
      "[169]\tvalidation_0-logloss:0.01321\tvalidation_1-logloss:0.26049\n",
      "[170]\tvalidation_0-logloss:0.01319\tvalidation_1-logloss:0.26052\n",
      "[171]\tvalidation_0-logloss:0.01317\tvalidation_1-logloss:0.26029\n",
      "[172]\tvalidation_0-logloss:0.01314\tvalidation_1-logloss:0.26079\n",
      "[173]\tvalidation_0-logloss:0.01312\tvalidation_1-logloss:0.26035\n",
      "[174]\tvalidation_0-logloss:0.01310\tvalidation_1-logloss:0.26013\n",
      "[175]\tvalidation_0-logloss:0.01308\tvalidation_1-logloss:0.26039\n",
      "[176]\tvalidation_0-logloss:0.01306\tvalidation_1-logloss:0.26031\n",
      "[177]\tvalidation_0-logloss:0.01303\tvalidation_1-logloss:0.25974\n",
      "[178]\tvalidation_0-logloss:0.01301\tvalidation_1-logloss:0.26021\n",
      "[179]\tvalidation_0-logloss:0.01299\tvalidation_1-logloss:0.25980\n",
      "[180]\tvalidation_0-logloss:0.01297\tvalidation_1-logloss:0.26005\n",
      "[181]\tvalidation_0-logloss:0.01295\tvalidation_1-logloss:0.25997\n",
      "[182]\tvalidation_0-logloss:0.01294\tvalidation_1-logloss:0.26040\n",
      "[183]\tvalidation_0-logloss:0.01292\tvalidation_1-logloss:0.26016\n",
      "[184]\tvalidation_0-logloss:0.01290\tvalidation_1-logloss:0.25977\n",
      "[185]\tvalidation_0-logloss:0.01288\tvalidation_1-logloss:0.25927\n",
      "[186]\tvalidation_0-logloss:0.01286\tvalidation_1-logloss:0.25951\n",
      "[187]\tvalidation_0-logloss:0.01284\tvalidation_1-logloss:0.25943\n",
      "[188]\tvalidation_0-logloss:0.01283\tvalidation_1-logloss:0.25921\n",
      "[189]\tvalidation_0-logloss:0.01282\tvalidation_1-logloss:0.25883\n",
      "confusion matrix: \n",
      " [[34  3]\n",
      " [ 3 74]]\n",
      "accuracy: 0.9474, precision: 0.9610, recall: 0.9610, f1: 0.9610, ROC-AUC: 0.9923\n"
     ]
    }
   ],
   "source": [
    "# XGBClassifier re-learning\n",
    "xgb_wrapper = XGBClassifier(n_estimators=400,\n",
    "                            learning_rate=round(best[\"learning_rate\"], 5),\n",
    "                            max_depth=int(best[\"max_depth\"]),\n",
    "                            min_child_weight=int(best[\"min_child_weight\"]),\n",
    "                            colsample_bytree=round(best[\"colsample_bytree\"], 5))\n",
    "\n",
    "evals = [(X_tr, y_tr), (X_val, y_val)]\n",
    "xgb_wrapper.fit(X_tr, y_tr, early_stopping_rounds=50, eval_metric=\"logloss\",\n",
    "                eval_set=evals, verbose=True)\n",
    "\n",
    "prds = xgb_wrapper.predict(X_test)\n",
    "prd_proba = xgb_wrapper.predict_proba(X_test)[:, 1]\n",
    "\n",
    "get_clf_eval(y_test, prds, prd_proba)"
   ],
   "metadata": {
    "collapsed": false
   }
  }
 ],
 "metadata": {
  "kernelspec": {
   "display_name": "Python 3",
   "language": "python",
   "name": "python3"
  },
  "language_info": {
   "codemirror_mode": {
    "name": "ipython",
    "version": 2
   },
   "file_extension": ".py",
   "mimetype": "text/x-python",
   "name": "python",
   "nbconvert_exporter": "python",
   "pygments_lexer": "ipython2",
   "version": "2.7.6"
  }
 },
 "nbformat": 4,
 "nbformat_minor": 0
}
