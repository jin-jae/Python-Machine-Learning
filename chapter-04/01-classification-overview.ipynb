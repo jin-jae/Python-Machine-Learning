{
 "cells": [
  {
   "cell_type": "markdown",
   "metadata": {
    "collapsed": false
   },
   "source": [
    "# Classification Overview"
   ]
  },
  {
   "cell_type": "markdown",
   "metadata": {
    "collapsed": false
   },
   "source": [
    "## Algorithms\n",
    "- Naive Bayes: based on Bayes Statistics and generative model\n",
    "- Logistic Regression: based on independent variable and dependent variable\n",
    "- Decision Tree: based on data uniformity\n",
    "- Support Vector Machine: maximum margin classifier\n",
    "- Nearest Neighbor: based on proximity\n",
    "- Neural Network\n",
    "- Ensemble: combine machine learning algorithms"
   ]
  },
  {
   "cell_type": "markdown",
   "metadata": {
    "collapsed": false
   },
   "source": [
    "### Ensemble\n",
    "- Bagging\n",
    "    - Random Forest\n",
    "- Boosting\n",
    "    - Gradient Boosting\n",
    "    - XgBoost(eXtra Gradient Boost)\n",
    "    - LightGBM"
   ]
  }
 ],
 "metadata": {
  "kernelspec": {
   "display_name": "Python 3",
   "language": "python",
   "name": "python3"
  },
  "language_info": {
   "codemirror_mode": {
    "name": "ipython",
    "version": 2
   },
   "file_extension": ".py",
   "mimetype": "text/x-python",
   "name": "python",
   "nbconvert_exporter": "python",
   "pygments_lexer": "ipython2",
   "version": "2.7.6"
  }
 },
 "nbformat": 4,
 "nbformat_minor": 0
}
