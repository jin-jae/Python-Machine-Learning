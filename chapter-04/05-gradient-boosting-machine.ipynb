{
 "cells": [
  {
   "cell_type": "markdown",
   "source": [
    "# Gradient Boosting Machine\n",
    "multiple weak learner -> giving weight to wrong-estimated data\n",
    "\n",
    "- AdaBoost: merge based on weight (give weight to wrong data)\n",
    "- GBM(Gradient Boosting Machine): update weight using Gradient Descent\n",
    "    - 경사하강법? (Gradient Descent?)\n",
    "        - 예측 함수와 실제 결과값의 차이 (그래프의 변화량)을 최소로 하는 방향성 선정"
   ],
   "metadata": {
    "collapsed": false
   }
  },
  {
   "cell_type": "code",
   "execution_count": 1,
   "outputs": [],
   "source": [
    "import pandas as pd\n",
    "\n",
    "\n",
    "def get_new_feature_name_df(old_feature_name_df):\n",
    "    feature_dup_df = pd.DataFrame(data=old_feature_name_df.groupby(\"column_name\").cumcount(),\n",
    "                                  columns=[\"dup_cnt\"])\n",
    "    feature_dup_df = feature_dup_df.reset_index()\n",
    "    new_feature_name_df = pd.merge(old_feature_name_df.reset_index(), feature_dup_df, how=\"outer\")\n",
    "    new_feature_name_df[\"column_name\"] = new_feature_name_df[[\"column_name\", \"dup_cnt\"]] \\\n",
    "        .apply(lambda x: x[0] + '_' + str(x[1]) if x[1] > 0 else x[0], axis=1)\n",
    "    new_feature_name_df = new_feature_name_df.drop([\"index\"], axis=1)\n",
    "    return new_feature_name_df\n",
    "\n",
    "\n",
    "def get_human_dataset():\n",
    "    feature_name_df = pd.read_csv(\"../human_activity/features.txt\", sep=\"\\s+\",\n",
    "                                  header=None, names=[\"column_index\", \"column_name\"])\n",
    "\n",
    "    # calls get_new_feature_name_df\n",
    "    new_feature_name_df = get_new_feature_name_df(feature_name_df)\n",
    "\n",
    "    feature_name = new_feature_name_df.iloc[:, 1].values.tolist()\n",
    "\n",
    "    X_train = pd.read_csv(\"../human_activity/train/X_train.txt\", sep=\"\\s+\", names=feature_name)\n",
    "    X_test = pd.read_csv(\"../human_activity/test/X_test.txt\", sep=\"\\s+\", names=feature_name)\n",
    "\n",
    "    y_train = pd.read_csv(\"../human_activity/train/y_train.txt\", sep=\"\\s+\", header=None, names=[\"action\"])\n",
    "    y_test = pd.read_csv(\"../human_activity/test/y_test.txt\", sep=\"\\s+\", header=None, names=[\"action\"])\n",
    "\n",
    "    return X_train, X_test, y_train, y_test"
   ],
   "metadata": {
    "collapsed": false
   }
  },
  {
   "cell_type": "code",
   "execution_count": 2,
   "metadata": {
    "collapsed": true
   },
   "outputs": [
    {
     "name": "stdout",
     "output_type": "stream",
     "text": [
      "GBM accuracy: 0.9386\n",
      "GBM running time: 480.5931\n"
     ]
    }
   ],
   "source": [
    "from sklearn.metrics import accuracy_score\n",
    "from sklearn.ensemble import GradientBoostingClassifier\n",
    "import time\n",
    "import warnings\n",
    "warnings.filterwarnings(\"ignore\")\n",
    "\n",
    "X_train, X_test, y_train, y_test = get_human_dataset()\n",
    "\n",
    "start_time = time.time()\n",
    "\n",
    "gb_clf = GradientBoostingClassifier(random_state=0)\n",
    "gb_clf.fit(X_train, y_train)\n",
    "gb_prd = gb_clf.predict(X_test)\n",
    "gb_accuracy = accuracy_score(y_test, gb_prd)\n",
    "\n",
    "print(\"GBM accuracy: {0:.4f}\".format(gb_accuracy))\n",
    "print(\"GBM running time: {0:.4f}\".format(time.time() - start_time))"
   ]
  },
  {
   "cell_type": "markdown",
   "source": [
    "## GBM hyper parameter\n",
    "- loss: choose which loss function to use\n",
    "- learning_rate: (default: 0.1) Weak learner learning rate (if too high, performance degrades but fast learning. if too low, performance can be upgrade, but time takes too long)\n",
    "- n_estimators: choose the amount of weak learner\n",
    "- subsample: data sampling rate"
   ],
   "metadata": {
    "collapsed": false
   }
  }
 ],
 "metadata": {
  "kernelspec": {
   "display_name": "Python 3",
   "language": "python",
   "name": "python3"
  },
  "language_info": {
   "codemirror_mode": {
    "name": "ipython",
    "version": 2
   },
   "file_extension": ".py",
   "mimetype": "text/x-python",
   "name": "python",
   "nbconvert_exporter": "python",
   "pygments_lexer": "ipython2",
   "version": "2.7.6"
  }
 },
 "nbformat": 4,
 "nbformat_minor": 0
}
